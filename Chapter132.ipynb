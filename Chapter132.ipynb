{
 "cells": [
  {
   "cell_type": "code",
   "execution_count": 268,
   "metadata": {},
   "outputs": [],
   "source": [
    "# Chapter 1.3.2 Arithmetic Operations on Images\n",
    "\n",
    "import cv2\n",
    "import numpy as np\n",
    "from matplotlib import pyplot as plt"
   ]
  },
  {
   "cell_type": "code",
   "execution_count": 269,
   "metadata": {},
   "outputs": [],
   "source": [
    "def nothing(x):\n",
    "  pass # 반복문, 함수, 조건문에서 내용을 비워두고 싶을 때 사용"
   ]
  },
  {
   "cell_type": "code",
   "execution_count": 270,
   "metadata": {},
   "outputs": [],
   "source": [
    "img1 = cv2.imread('testImg.jpg') # cv2.imread()를 통해 해당 이미지를 읽어오고, 그 정보를 img1 변수에 저장\n",
    "img2 = cv2.imread('openCV_logo.jpg') # cv2.imread()를 통해 해당 이미지를 읽어오고, 그 정보를 img2 변수에 저장\n",
    "dst = cv2.addWeighted(img1,0.7,img2,0.3,0) # 가중치 합 및 평균 연산\n",
    "cv2.imshow('dst',dst)\n",
    "cv2.waitKey(0)\n",
    "cv2.destroyAllWindows()"
   ]
  },
  {
   "cell_type": "code",
   "execution_count": 271,
   "metadata": {},
   "outputs": [],
   "source": [
    "# Load two images\n",
    "img1 = cv2.imread('testImg.jpg')\n",
    "img2 = cv2.imread('openCV_logo.jpg')\n",
    "\n",
    "# I want to put logo on top-left corner, So I create a ROI\n",
    "rows,cols,channels = img2.shape\n",
    "roi = img1[0:rows, 0:cols ]"
   ]
  },
  {
   "cell_type": "code",
   "execution_count": 272,
   "metadata": {},
   "outputs": [],
   "source": [
    "# BGR을 GREY로 변경\n",
    "img2gray = cv2.cvtColor(img2,cv2.COLOR_BGR2GRAY)\n",
    "ret, mask = cv2.threshold(img2gray, 10, 255, cv2.THRESH_BINARY)\n",
    "mask_inv = cv2.bitwise_not(mask)"
   ]
  },
  {
   "cell_type": "code",
   "execution_count": 273,
   "metadata": {},
   "outputs": [],
   "source": [
    "# Now black-out the area of logo in ROI\n",
    "img1_bg = cv2.bitwise_and(roi,roi,mask = mask_inv)\n",
    "# Take only region of logo from logo image.\n",
    "img2_fg = cv2.bitwise_and(img2,img2,mask = mask)"
   ]
  },
  {
   "cell_type": "code",
   "execution_count": 274,
   "metadata": {},
   "outputs": [],
   "source": [
    "# Put logo in ROI and modify the main image\n",
    "# cv2.add() // 덧셈 연산\n",
    "dst = cv2.add(img1_bg,img2_fg)\n",
    "img1[0:rows, 0:cols ] = dst\n",
    "cv2.imshow('res',img1)\n",
    "cv2.waitKey(0)\n",
    "cv2.destroyAllWindows()"
   ]
  },
  {
   "cell_type": "code",
   "execution_count": 275,
   "metadata": {},
   "outputs": [],
   "source": [
    "e1 = cv2.getTickCount()\n",
    "# your code execution\n",
    "e2 = cv2.getTickCount()\n",
    "time = (e2 - e1)/ cv2.getTickFrequency()"
   ]
  },
  {
   "cell_type": "code",
   "execution_count": 276,
   "metadata": {},
   "outputs": [
    {
     "name": "stdout",
     "output_type": "stream",
     "text": [
      "0.216182666\n"
     ]
    }
   ],
   "source": [
    "img1 = cv2.imread('testImg.jpg')\n",
    "e1 = cv2.getTickCount()\n",
    "for i in range(5,49,2):\n",
    "  img1 = cv2.medianBlur(img1,i)\n",
    "e2 = cv2.getTickCount()\n",
    "t = (e2 - e1)/cv2.getTickFrequency()\n",
    "print(t)"
   ]
  },
  {
   "cell_type": "code",
   "execution_count": 277,
   "metadata": {},
   "outputs": [],
   "source": [
    "img1 = cv2.imread('testImg.jpg')\n",
    "img2 = cv2.imread('openCV_logo.jpg')"
   ]
  },
  {
   "cell_type": "code",
   "execution_count": 278,
   "metadata": {},
   "outputs": [],
   "source": [
    "cv2.namedWindow('image')\n",
    "\n",
    "# 트랙 바를 만든다. 트랙 바 이름: 'add', 윈도우(창) 이름: 'image', 기본값: 0, 최대값: 100, 트랙 바의 값이 변경될때 호출되는 콜백함수: nothing\n",
    "cv2.createTrackbar('add','image', 0, 100, nothing)\n",
    "\n",
    "# cv2.addWeighted(src1, alpha, src2, beta, gamma, dst=None, dtype=None) -> dst  // 가중치 합, 평균 연산\n",
    "# src1: 첫번째 값(이미지나 영상)\n",
    "# alpha: src1의 가중치\n",
    "# src2: 두번째 값(이미지나 영상)\n",
    "# beta: src2의 가중치\n",
    "# gamma: 결과값이 추가적으로 더할 값\n",
    "# dst: 가중치 합 결과\n",
    "dst = cv2.addWeighted(img1, 1.0, img2, 0.0, 0)\n",
    "\n",
    "while(1):\n",
    "  cv2.imshow('image', dst)\n",
    "  k = cv2.waitKey(1) & 0xFF # 1msec 동안 입력을 대기받는다. 그 결과를 비트연산자로 0xFF와 AND 연산하여 8비트값으로 만듦. -> 입력받은 값에서 8비트 값만 추출\n",
    "  if k == 27: # 입력받은 값이 27와 같은지 확인. 여기서 27은 'Esc'키를 의미.\n",
    "    break\n",
    "\n",
    "# 트랙 바를 불러온다. 불러올 트랙 바의 이름: 'add', 윈도우의 이름: 'image'\n",
    "  w = cv2.getTrackbarPos('add', 'image')\n",
    "# 트랙 바의 위치(값)를 반영하여 dst값 갱신\n",
    "  dst = cv2.addWeighted(img1, 1-w/100., img2, w/100.0, 0)\n",
    "\n",
    "  \n",
    "cv2.destroyAllWindows()"
   ]
  },
  {
   "cell_type": "code",
   "execution_count": 279,
   "metadata": {},
   "outputs": [
    {
     "data": {
      "text/plain": [
       "-1"
      ]
     },
     "execution_count": 279,
     "metadata": {},
     "output_type": "execute_result"
    }
   ],
   "source": [
    "cv2.destroyAllWindows()\n",
    "\n",
    "# mac에서 창이 안꺼지는 현상 해결을 위한 코드\n",
    "cv2.waitKey(1)\n",
    "cv2.waitKey(1)\n",
    "cv2.waitKey(1)\n",
    "cv2.waitKey(1)\n",
    "cv2.waitKey(1)"
   ]
  }
 ],
 "metadata": {
  "kernelspec": {
   "display_name": "IP2024",
   "language": "python",
   "name": "python3"
  },
  "language_info": {
   "codemirror_mode": {
    "name": "ipython",
    "version": 3
   },
   "file_extension": ".py",
   "mimetype": "text/x-python",
   "name": "python",
   "nbconvert_exporter": "python",
   "pygments_lexer": "ipython3",
   "version": "3.8.19"
  }
 },
 "nbformat": 4,
 "nbformat_minor": 2
}
