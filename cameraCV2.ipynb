{
 "cells": [
  {
   "cell_type": "code",
   "execution_count": 1,
   "metadata": {},
   "outputs": [],
   "source": [
    "\n",
    "import cv2"
   ]
  },
  {
   "cell_type": "code",
   "execution_count": 4,
   "metadata": {},
   "outputs": [],
   "source": [
    "def cameraIndex(n):\n",
    "    arr = []\n",
    "    index = 0\n",
    "    while index < n:\n",
    "        cap = cv2.VideoCapture(index)\n",
    "        if cap.read()[0]:\n",
    "            width = cap.get(cv2.CAP_PROP_FRAME_WIDTH) # Frame Width\n",
    "            height = cap.get(cv2.CAP_PROP_FRAME_HEIGHT) # Frame Height\n",
    "            fps = cap.get(cv2.CAP_PROP_FPS) \n",
    "            print('camera ' + str(index) + ' width: ' + str(width) + ', height: ' + str(height) + ', fps: ' + str(fps))\n",
    "            arr.append(index)\n",
    "            cap.release()\n",
    "        index += 1\n",
    "    return arr"
   ]
  },
  {
   "cell_type": "code",
   "execution_count": 5,
   "metadata": {},
   "outputs": [
    {
     "name": "stdout",
     "output_type": "stream",
     "text": [
      "camera 0 width: 640.0, height: 480.0, fps: 30.0\n",
      "camera 2 width: 640.0, height: 480.0, fps: 30.0\n",
      "[0, 2]\n"
     ]
    }
   ],
   "source": [
    "out = cameraIndex(5)\n",
    "print(out)"
   ]
  },
  {
   "cell_type": "code",
   "execution_count": 6,
   "metadata": {},
   "outputs": [],
   "source": [
    "def draw_circle(event, x, y, flags, param):\n",
    "    global mouseX, mouseY, msg, frame, displayScale\n",
    "    if event == cv2.EVENT_MOUSEMOVE:\n",
    "        mouseX, mouseY = x, y\n",
    "        rX, rY = int(x/displayScale), int(y/displayScale)\n",
    "        msg = \"(\"+str(rX)+\",\"+str(rY)+\")-\"+str(frame[rY][rX])"
   ]
  },
  {
   "cell_type": "code",
   "execution_count": 7,
   "metadata": {},
   "outputs": [],
   "source": [
    "def draw_msg():\n",
    "    global mouseX, mouseY, msg, frame, font, fontScale\n",
    "    dx, dy = 12, 10\n",
    "    cv2.circle(frame, (mouseX, mouseY), 5, (0, 255, 0), 2)\n",
    "    cv2.putText(frame, msg, (mouseX+dx, mouseY-dy), font, fontScale, (0, 0, 0), 2, cv2.LINE_AA)"
   ]
  },
  {
   "cell_type": "code",
   "execution_count": 9,
   "metadata": {},
   "outputs": [],
   "source": [
    "fps = 30\n",
    "width = 640\n",
    "height = 480\n",
    "displayScale = 1\n",
    "mouseX, mouseY = 10, 10\n",
    "frame, frameCount = 0, 0\n",
    "\n",
    "fontScale = .5\n",
    "font = cv2.FONT_HERSHEY_SIMPLEX\n",
    "msg = \"mouse (x,y) - color\"\n",
    "\n",
    "cap = cv2.VideoCapture(0)\n",
    "cap.set(cv2.CAP_PROP_FPS, fps)\n",
    "cap.set(cv2.CAP_PROP_FRAME_WIDTH, width)\n",
    "cap.set(cv2.CAP_PROP_FRAME_HEIGHT, height)\n",
    "\n",
    "delay_time = int(1000/fps)\n",
    "\n",
    "cv2.namedWindow(\"camera\", cv2.WINDOW_NORMAL)        \n",
    "cv2.resizeWindow(\"camera\", width*displayScale, height*displayScale)  \n",
    "cv2.setMouseCallback(\"camera\", draw_circle)\n",
    "\n",
    "while(cap.isOpened()):\n",
    "    ret, frame = cap.read()\n",
    "    if ret:\n",
    "        frame = cv2.flip(frame, 1)\n",
    "\n",
    "        draw_msg()\n",
    "        cv2.imshow(\"camera\", frame)\n",
    "\n",
    "    frameCount += 1\n",
    "    key = cv2.waitKey(1) & 0xFF # delay_time\n",
    "    if key == ord('q') or key == 27:\n",
    "        break\n",
    "\n",
    "cap.release()\n",
    "cv2.destroyAllWindows()"
   ]
  },
  {
   "cell_type": "code",
   "execution_count": null,
   "metadata": {},
   "outputs": [],
   "source": []
  }
 ],
 "metadata": {
  "kernelspec": {
   "display_name": "IP2024",
   "language": "python",
   "name": "python3"
  },
  "language_info": {
   "codemirror_mode": {
    "name": "ipython",
    "version": 3
   },
   "file_extension": ".py",
   "mimetype": "text/x-python",
   "name": "python",
   "nbconvert_exporter": "python",
   "pygments_lexer": "ipython3",
   "version": "3.8.19"
  }
 },
 "nbformat": 4,
 "nbformat_minor": 2
}
